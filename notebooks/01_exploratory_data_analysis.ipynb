{
 "cells": [
  {
   "cell_type": "code",
   "execution_count": null,
   "id": "979f55b3-4542-4ac2-9db0-a6b2c389f2e1",
   "metadata": {},
   "outputs": [],
   "source": []
  }
 ],
 "metadata": {
  "kernelspec": {
   "display_name": "",
   "name": ""
  },
  "language_info": {
   "name": ""
  }
 },
 "nbformat": 4,
 "nbformat_minor": 5
}
