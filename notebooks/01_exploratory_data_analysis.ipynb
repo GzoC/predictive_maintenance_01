{
 "cells": [
  {
   "cell_type": "code",
   "execution_count": 1,
   "id": "979f55b3-4542-4ac2-9db0-a6b2c389f2e1",
   "metadata": {},
   "outputs": [],
   "source": [
    "# %% [code]\n",
    "# Importamos las librerías necesarias para el análisis\n",
    "import pandas as pd        # Para la manipulación de dataframes\n",
    "import numpy as np         # Para cálculos numéricos\n",
    "import matplotlib.pyplot as plt  # Para la generación de gráficos\n",
    "import seaborn as sns      # Para gráficos estadísticos más elaborados\n",
    "\n",
    "# Configuramos matplotlib para que los gráficos se muestren dentro del notebook\n",
    "%matplotlib inline\n",
    "\n",
    "# Configuración estética de seaborn para gráficos más atractivos\n",
    "sns.set(style=\"whitegrid\")"
   ]
  },
  {
   "cell_type": "code",
   "execution_count": null,
   "id": "d5080ecd",
   "metadata": {},
   "outputs": [],
   "source": [
    "# %% [code]\n",
    "# Definimos la ruta del dataset (asegúrate de que el archivo existe en esta ruta)\n",
    "data_path = \"../../data/raw/machine_data.csv\"  # Ruta relativa desde la carpeta notebooks\n",
    "\n",
    "# Cargamos el dataset en un DataFrame de pandas\n",
    "df = pd.read_csv(data_path)  # Lee el archivo CSV y lo guarda en la variable df\n",
    "\n",
    "# Mostramos las primeras 5 filas para visualizar la estructura inicial de los datos\n",
    "df.head()  # Imprime las primeras 5 filas del DataFrame\n"
   ]
  }
 ],
 "metadata": {
  "kernelspec": {
   "display_name": "predictive_maintenance_01",
   "language": "python",
   "name": "python3"
  },
  "language_info": {
   "codemirror_mode": {
    "name": "ipython",
    "version": 3
   },
   "file_extension": ".py",
   "mimetype": "text/x-python",
   "name": "python",
   "nbconvert_exporter": "python",
   "pygments_lexer": "ipython3",
   "version": "3.9.21"
  }
 },
 "nbformat": 4,
 "nbformat_minor": 5
}
