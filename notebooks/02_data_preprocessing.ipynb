{
 "cells": [
  {
   "cell_type": "code",
   "execution_count": null,
   "id": "5204814e-1444-4399-b800-a253301fb4d6",
   "metadata": {},
   "outputs": [],
   "source": [
    "# %% [code]\n",
    "# Importamos las librerías necesarias para el preprocesamiento\n",
    "import pandas as pd            # Para manipulación de dataframes\n",
    "import numpy as np             # Para operaciones numéricas\n",
    "from sklearn.preprocessing import StandardScaler  # Para escalar variables\n",
    "\n",
    "# Configuramos la visualización de pandas para ver todas las columnas si es necesario\n",
    "pd.set_option('display.max_columns', None)\n"
   ]
  }
 ],
 "metadata": {
  "kernelspec": {
   "display_name": "Python 3 (ipykernel)",
   "language": "python",
   "name": "python3"
  },
  "language_info": {
   "codemirror_mode": {
    "name": "ipython",
    "version": 3
   },
   "file_extension": ".py",
   "mimetype": "text/x-python",
   "name": "python",
   "nbconvert_exporter": "python",
   "pygments_lexer": "ipython3",
   "version": "3.9.21"
  }
 },
 "nbformat": 4,
 "nbformat_minor": 5
}
