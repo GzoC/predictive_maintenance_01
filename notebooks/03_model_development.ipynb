{
 "cells": [
  {
   "cell_type": "code",
   "execution_count": null,
   "id": "d3489047-c99f-43de-8bdc-495bc15f5125",
   "metadata": {},
   "outputs": [],
   "source": [
    "# %% [code]\n",
    "# Importamos las librerías para el modelado y evaluación\n",
    "import pandas as pd             # Para la manipulación de dataframes\n",
    "import numpy as np              # Para cálculos numéricos\n",
    "import matplotlib.pyplot as plt # Para visualizar resultados\n",
    "import seaborn as sns           # Para gráficos estadísticos\n",
    "\n",
    "# Importamos funciones de scikit-learn para dividir datos y evaluar el modelo\n",
    "from sklearn.model_selection import train_test_split  # Para separar datos en entrenamiento y prueba\n",
    "from sklearn.tree import DecisionTreeClassifier         # Modelo de árbol de decisión para clasificación\n",
    "from sklearn.metrics import classification_report, confusion_matrix  # Métricas para evaluar el modelo\n",
    "import joblib  # Para guardar (serializar) el modelo entrenado\n",
    "\n",
    "# Configuramos visualización en línea para matplotlib\n",
    "%matplotlib inline\n"
   ]
  }
 ],
 "metadata": {
  "kernelspec": {
   "display_name": "Python 3 (ipykernel)",
   "language": "python",
   "name": "python3"
  },
  "language_info": {
   "codemirror_mode": {
    "name": "ipython",
    "version": 3
   },
   "file_extension": ".py",
   "mimetype": "text/x-python",
   "name": "python",
   "nbconvert_exporter": "python",
   "pygments_lexer": "ipython3",
   "version": "3.9.21"
  }
 },
 "nbformat": 4,
 "nbformat_minor": 5
}
