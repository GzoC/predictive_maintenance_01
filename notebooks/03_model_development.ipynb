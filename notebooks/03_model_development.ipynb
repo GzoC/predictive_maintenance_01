{
 "cells": [
  {
   "cell_type": "code",
   "execution_count": 1,
   "id": "d3489047-c99f-43de-8bdc-495bc15f5125",
   "metadata": {},
   "outputs": [],
   "source": [
    "# Importamos las librerías necesarias para el modelado y la evaluación del modelo\n",
    "import pandas as pd             # Para la manipulación de dataframes\n",
    "import numpy as np              # Para cálculos numéricos\n",
    "import matplotlib.pyplot as plt # Para visualizar resultados\n",
    "import seaborn as sns           # Para gráficos estadísticos\n",
    "\n",
    "# Importamos funciones de scikit-learn para dividir datos, entrenar y evaluar modelos\n",
    "from sklearn.model_selection import train_test_split  # Para separar datos en entrenamiento y prueba\n",
    "from sklearn.tree import DecisionTreeClassifier      # Modelo de Árbol de Decisión para clasificación\n",
    "from sklearn.metrics import classification_report, confusion_matrix  # Métricas para evaluar el modelo\n",
    "import joblib  # Para guardar el modelo entrenado\n",
    "\n",
    "# Configuración de visualización en línea para matplotlib\n",
    "%matplotlib inline\n"
   ]
  },
  {
   "cell_type": "code",
   "execution_count": 2,
   "id": "a32b2e50-f93e-4b94-96be-751ecafee425",
   "metadata": {},
   "outputs": [
    {
     "data": {
      "text/html": [
       "<div>\n",
       "<style scoped>\n",
       "    .dataframe tbody tr th:only-of-type {\n",
       "        vertical-align: middle;\n",
       "    }\n",
       "\n",
       "    .dataframe tbody tr th {\n",
       "        vertical-align: top;\n",
       "    }\n",
       "\n",
       "    .dataframe thead th {\n",
       "        text-align: right;\n",
       "    }\n",
       "</style>\n",
       "<table border=\"1\" class=\"dataframe\">\n",
       "  <thead>\n",
       "    <tr style=\"text-align: right;\">\n",
       "      <th></th>\n",
       "      <th>machine_id</th>\n",
       "      <th>operating_hours</th>\n",
       "      <th>temperature</th>\n",
       "      <th>vibration</th>\n",
       "      <th>pressure</th>\n",
       "      <th>humidity</th>\n",
       "      <th>failure_type</th>\n",
       "      <th>maintenance_required</th>\n",
       "    </tr>\n",
       "  </thead>\n",
       "  <tbody>\n",
       "    <tr>\n",
       "      <th>0</th>\n",
       "      <td>-1.731878</td>\n",
       "      <td>0.826546</td>\n",
       "      <td>-0.156917</td>\n",
       "      <td>1.461389</td>\n",
       "      <td>1.377266</td>\n",
       "      <td>0.517589</td>\n",
       "      <td>No Failure</td>\n",
       "      <td>-0.424359</td>\n",
       "    </tr>\n",
       "    <tr>\n",
       "      <th>1</th>\n",
       "      <td>-1.731531</td>\n",
       "      <td>-1.421065</td>\n",
       "      <td>0.647928</td>\n",
       "      <td>1.078379</td>\n",
       "      <td>-0.970373</td>\n",
       "      <td>0.776294</td>\n",
       "      <td>Overheat</td>\n",
       "      <td>2.356497</td>\n",
       "    </tr>\n",
       "    <tr>\n",
       "      <th>2</th>\n",
       "      <td>-1.731185</td>\n",
       "      <td>0.167340</td>\n",
       "      <td>-0.482063</td>\n",
       "      <td>0.835104</td>\n",
       "      <td>1.494533</td>\n",
       "      <td>-0.053476</td>\n",
       "      <td>No Failure</td>\n",
       "      <td>-0.424359</td>\n",
       "    </tr>\n",
       "    <tr>\n",
       "      <th>3</th>\n",
       "      <td>-1.730838</td>\n",
       "      <td>0.097563</td>\n",
       "      <td>0.590378</td>\n",
       "      <td>-0.582986</td>\n",
       "      <td>-1.388413</td>\n",
       "      <td>-0.160527</td>\n",
       "      <td>No Failure</td>\n",
       "      <td>-0.424359</td>\n",
       "    </tr>\n",
       "    <tr>\n",
       "      <th>4</th>\n",
       "      <td>-1.730492</td>\n",
       "      <td>0.287961</td>\n",
       "      <td>-1.594302</td>\n",
       "      <td>-1.516436</td>\n",
       "      <td>1.142205</td>\n",
       "      <td>-1.012421</td>\n",
       "      <td>No Failure</td>\n",
       "      <td>-0.424359</td>\n",
       "    </tr>\n",
       "  </tbody>\n",
       "</table>\n",
       "</div>"
      ],
      "text/plain": [
       "   machine_id  operating_hours  temperature  vibration  pressure  humidity  \\\n",
       "0   -1.731878         0.826546    -0.156917   1.461389  1.377266  0.517589   \n",
       "1   -1.731531        -1.421065     0.647928   1.078379 -0.970373  0.776294   \n",
       "2   -1.731185         0.167340    -0.482063   0.835104  1.494533 -0.053476   \n",
       "3   -1.730838         0.097563     0.590378  -0.582986 -1.388413 -0.160527   \n",
       "4   -1.730492         0.287961    -1.594302  -1.516436  1.142205 -1.012421   \n",
       "\n",
       "  failure_type  maintenance_required  \n",
       "0   No Failure             -0.424359  \n",
       "1     Overheat              2.356497  \n",
       "2   No Failure             -0.424359  \n",
       "3   No Failure             -0.424359  \n",
       "4   No Failure             -0.424359  "
      ]
     },
     "execution_count": 2,
     "metadata": {},
     "output_type": "execute_result"
    }
   ],
   "source": [
    "# Definimos la ruta del dataset procesado\n",
    "processed_data_path = r\"D:\\gzo\\myProjects\\dataAnalyst\\projects\\predictive_maintenance_01\\data\\processed\\processed_machine_data.csv\"\n",
    "\n",
    "# Cargamos el dataset procesado en un DataFrame\n",
    "df = pd.read_csv(processed_data_path)\n",
    "\n",
    "# Mostramos las primeras filas para confirmar la carga\n",
    "df.head()\n",
    "\n"
   ]
  },
  {
   "cell_type": "code",
   "execution_count": 3,
   "id": "f12bff4f-9f25-4cc0-8011-53daa40b9b92",
   "metadata": {},
   "outputs": [
    {
     "name": "stdout",
     "output_type": "stream",
     "text": [
      "✅ Variables categóricas convertidas a numéricas\n",
      "   machine_id  operating_hours  temperature  vibration  pressure  humidity  \\\n",
      "0   -1.731878         0.826546    -0.156917   1.461389  1.377266  0.517589   \n",
      "1   -1.731531        -1.421065     0.647928   1.078379 -0.970373  0.776294   \n",
      "2   -1.731185         0.167340    -0.482063   0.835104  1.494533 -0.053476   \n",
      "3   -1.730838         0.097563     0.590378  -0.582986 -1.388413 -0.160527   \n",
      "4   -1.730492         0.287961    -1.594302  -1.516436  1.142205 -1.012421   \n",
      "\n",
      "   failure_type  \n",
      "0             1  \n",
      "1             2  \n",
      "2             1  \n",
      "3             1  \n",
      "4             1  \n",
      "📊 Valores únicos en y antes de la corrección: [-0.42435863  2.35649739]\n",
      "✅ Valores únicos en y después de la corrección: [0 1]\n",
      "machine_id         float64\n",
      "operating_hours    float64\n",
      "temperature        float64\n",
      "vibration          float64\n",
      "pressure           float64\n",
      "humidity           float64\n",
      "failure_type         int64\n",
      "dtype: object\n",
      "Dimensiones del conjunto de entrenamiento: (7000, 7)\n",
      "Dimensiones del conjunto de prueba: (3000, 7)\n"
     ]
    }
   ],
   "source": [
    "# Separamos las variables predictoras (features) y la variable objetivo (target)\n",
    "# Suponiendo que la variable objetivo se llama 'maintenance_required' y es binaria (0: no requiere, 1: requiere)\n",
    "\n",
    "from sklearn.preprocessing import LabelEncoder  # Importar codificador\n",
    "\n",
    "X = df.drop(columns=[\"maintenance_required\"])  # Variables predictoras\n",
    "categorical_cols = X.select_dtypes(include=['object']).columns  # Identificar columnas categóricas\n",
    "\n",
    "# Aplicar Label Encoding a columnas categóricas\n",
    "le = LabelEncoder()\n",
    "for col in categorical_cols:\n",
    "    X[col] = le.fit_transform(X[col])  # Convertir categorías a números\n",
    "\n",
    "# Verificar los cambios\n",
    "print(\"✅ Variables categóricas convertidas a numéricas\")\n",
    "print(X.head())\n",
    "\n",
    "# Aseguramos que la variable objetivo solo contenga 0 y 1\n",
    "y = df[\"maintenance_required\"]\n",
    "\n",
    "# Verificamos si hay valores incorrectos\n",
    "print(\"📊 Valores únicos en y antes de la corrección:\", y.unique())\n",
    "\n",
    "# Si hay valores distintos de 0 y 1, corregimos\n",
    "y = y.map(lambda x: 1 if x > 0 else 0).astype(int)  # Convierte cualquier valor mayor que 0 en 1\n",
    "\n",
    "# Verificamos después de la corrección\n",
    "print(\"✅ Valores únicos en y después de la corrección:\", y.unique())\n",
    "\n",
    "# Mostrar los tipos de datos de cada columna en X\n",
    "print(X.dtypes)\n",
    "\n",
    "# Dividimos los datos en conjuntos de entrenamiento (70%) y prueba (30%)\n",
    "X_train, X_test, y_train, y_test = train_test_split(X, y, test_size=0.3, random_state=42)\n",
    "\n",
    "# Mostramos las dimensiones de cada conjunto\n",
    "print(\"Dimensiones del conjunto de entrenamiento:\", X_train.shape)\n",
    "print(\"Dimensiones del conjunto de prueba:\", X_test.shape)"
   ]
  },
  {
   "cell_type": "code",
   "execution_count": 4,
   "id": "478c8df9-d70e-4b8c-b8d8-5510610f9dac",
   "metadata": {},
   "outputs": [
    {
     "name": "stdout",
     "output_type": "stream",
     "text": [
      "📊 Valores únicos en y_pred después de la corrección: [0 1]\n"
     ]
    }
   ],
   "source": [
    "# Creamos una instancia del modelo de Árbol de Decisión\n",
    "model = DecisionTreeClassifier(random_state=42)  # Semilla para reproducibilidad\n",
    "\n",
    "# Entrenamos el modelo utilizando el conjunto de entrenamiento\n",
    "model.fit(X_train, y_train)  # Ajusta el modelo a los datos de entrenamiento\n",
    "\n",
    "# Realizamos predicciones sobre el conjunto de prueba\n",
    "y_pred = model.predict(X_test)  # Predicciones sobre los datos de prueba\n",
    "\n",
    "# Verificamos los valores únicos en y_pred\n",
    "print(\"📊 Valores únicos en y_pred después de la corrección:\", np.unique(y_pred))  # Debe mostrar solo 0 y 1\n"
   ]
  },
  {
   "cell_type": "code",
   "execution_count": 5,
   "id": "e2da9a88-dbf6-464e-ad54-e637cf9195a2",
   "metadata": {},
   "outputs": [
    {
     "name": "stdout",
     "output_type": "stream",
     "text": [
      "🔍 Reporte de Clasificación:\n",
      "              precision    recall  f1-score   support\n",
      "\n",
      "           0       1.00      1.00      1.00      2545\n",
      "           1       1.00      1.00      1.00       455\n",
      "\n",
      "    accuracy                           1.00      3000\n",
      "   macro avg       1.00      1.00      1.00      3000\n",
      "weighted avg       1.00      1.00      1.00      3000\n",
      "\n"
     ]
    },
    {
     "data": {
      "image/png": "[encoded data removed]",
      "text/plain": [
       "<Figure size 600x400 with 2 Axes>"
      ]
     },
     "metadata": {},
     "output_type": "display_data"
    }
   ],
   "source": [
    "# Calculamos el reporte de clasificación con precisión, recall y f1-score\n",
    "print(\"🔍 Reporte de Clasificación:\")\n",
    "print(classification_report(y_test, y_pred))  # Muestra las métricas de evaluación\n",
    "\n",
    "# Calculamos la matriz de confusión\n",
    "cm = confusion_matrix(y_test, y_pred)\n",
    "\n",
    "# Visualizamos la matriz de confusión con seaborn\n",
    "plt.figure(figsize=(6, 4))\n",
    "sns.heatmap(cm, annot=True, fmt=\"d\", cmap=\"Blues\")  # Muestra los valores dentro de la matriz\n",
    "plt.title(\"Matriz de Confusión\")  # Título del gráfico\n",
    "plt.xlabel(\"Predicción\")  # Etiqueta del eje X\n",
    "plt.ylabel(\"Valor Real\")  # Etiqueta del eje Y\n",
    "plt.show()\n"
   ]
  },
  {
   "cell_type": "code",
   "execution_count": 6,
   "id": "c49ed7fc-ea94-4e53-9cd6-e597a1120ee7",
   "metadata": {},
   "outputs": [
    {
     "name": "stdout",
     "output_type": "stream",
     "text": [
      "Fitting 5 folds for each of 72 candidates, totalling 360 fits\n",
      "🌟 Mejores Hiperparámetros: {'criterion': 'gini', 'max_depth': 3, 'min_samples_leaf': 1, 'min_samples_split': 2}\n",
      "🔍 Reporte de Clasificación del Mejor Modelo:\n",
      "              precision    recall  f1-score   support\n",
      "\n",
      "           0       1.00      1.00      1.00      2545\n",
      "           1       1.00      1.00      1.00       455\n",
      "\n",
      "    accuracy                           1.00      3000\n",
      "   macro avg       1.00      1.00      1.00      3000\n",
      "weighted avg       1.00      1.00      1.00      3000\n",
      "\n"
     ]
    }
   ],
   "source": [
    "from sklearn.model_selection import GridSearchCV  # Para búsqueda de hiperparámetros\n",
    "\n",
    "# Definir el espacio de búsqueda de hiperparámetros\n",
    "param_grid = {\n",
    "    \"max_depth\": [3, 5, 10, None],  # Profundidad máxima del árbol\n",
    "    \"min_samples_split\": [2, 5, 10],  # Mínimo de muestras necesarias para dividir un nodo\n",
    "    \"min_samples_leaf\": [1, 2, 4],  # Mínimo de muestras en cada hoja\n",
    "    \"criterion\": [\"gini\", \"entropy\"]  # Función de criterio para dividir nodos\n",
    "}\n",
    "\n",
    "# Realizar búsqueda de hiperparámetros con validación cruzada\n",
    "grid_search = GridSearchCV(DecisionTreeClassifier(random_state=42), param_grid, cv=5, n_jobs=-1, verbose=2)\n",
    "grid_search.fit(X_train, y_train)  # Ajustar modelo con diferentes combinaciones\n",
    "\n",
    "# Mejor combinación de hiperparámetros encontrada\n",
    "print(\"🌟 Mejores Hiperparámetros:\", grid_search.best_params_)\n",
    "\n",
    "# Evaluar el mejor modelo encontrado\n",
    "best_model = grid_search.best_estimator_\n",
    "y_pred_best = best_model.predict(X_test)\n",
    "\n",
    "# Reporte de clasificación del mejor modelo\n",
    "print(\"🔍 Reporte de Clasificación del Mejor Modelo:\")\n",
    "print(classification_report(y_test, y_pred_best))\n"
   ]
  },
  {
   "cell_type": "code",
   "execution_count": 7,
   "id": "9da7fc3a-74b8-4973-9039-c4749a8c61de",
   "metadata": {},
   "outputs": [
    {
     "name": "stdout",
     "output_type": "stream",
     "text": [
      "✅ Carpeta existente: D:\\gzo\\myProjects\\dataAnalyst\\projects\\predictive_maintenance_01\\models\n",
      "✅ Modelo guardado en: D:\\gzo\\myProjects\\dataAnalyst\\projects\\predictive_maintenance_01\\models\\model_v1.pkl\n"
     ]
    }
   ],
   "source": [
    "import os\n",
    "import joblib  # Para guardar el modelo entrenado\n",
    "\n",
    "# Definimos la ruta para guardar el modelo entrenado\n",
    "model_path = r\"D:\\gzo\\myProjects\\dataAnalyst\\projects\\predictive_maintenance_01\\models\\model_v1.pkl\"\n",
    "\n",
    "# Crear la carpeta de modelos si no existe\n",
    "model_dir = os.path.dirname(model_path)\n",
    "if not os.path.exists(model_dir):\n",
    "    os.makedirs(model_dir)\n",
    "    print(f\"📂 Carpeta creada: {model_dir}\")\n",
    "else:\n",
    "    print(f\"✅ Carpeta existente: {model_dir}\")\n",
    "\n",
    "# Guardamos (serializamos) el modelo utilizando joblib\n",
    "joblib.dump(model, model_path)\n",
    "\n",
    "print(f\"✅ Modelo guardado en: {model_path}\")\n"
   ]
  }
 ],
 "metadata": {
  "kernelspec": {
   "display_name": "Python 3 (ipykernel)",
   "language": "python",
   "name": "python3"
  },
  "language_info": {
   "codemirror_mode": {
    "name": "ipython",
    "version": 3
   },
   "file_extension": ".py",
   "mimetype": "text/x-python",
   "name": "python",
   "nbconvert_exporter": "python",
   "pygments_lexer": "ipython3",
   "version": "3.9.21"
  }
 },
 "nbformat": 4,
 "nbformat_minor": 5
}
